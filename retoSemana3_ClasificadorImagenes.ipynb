{
  "nbformat": 4,
  "nbformat_minor": 0,
  "metadata": {
    "colab": {
      "name": "retoSemana3_ClasificadorImagenes.ipynb",
      "provenance": [],
      "authorship_tag": "ABX9TyMnDrLCZ7RCguYmAOrRyDMi",
      "include_colab_link": true
    },
    "kernelspec": {
      "name": "python3",
      "display_name": "Python 3"
    }
  },
  "cells": [
    {
      "cell_type": "markdown",
      "metadata": {
        "id": "view-in-github",
        "colab_type": "text"
      },
      "source": [
        "<a href=\"https://colab.research.google.com/github/josefl19/CustomVision_clasificador/blob/main/retoSemana3_ClasificadorImagenes.ipynb\" target=\"_parent\"><img src=\"https://colab.research.google.com/assets/colab-badge.svg\" alt=\"Open In Colab\"/></a>"
      ]
    },
    {
      "cell_type": "markdown",
      "metadata": {
        "id": "TvzxpsvCp5MF"
      },
      "source": [
        "# Clasificador de Imagenes\r\n",
        "\r\n",
        "Texto para después."
      ]
    },
    {
      "cell_type": "code",
      "metadata": {
        "colab": {
          "base_uri": "https://localhost:8080/"
        },
        "id": "__ar6M63Avua",
        "outputId": "4115b4ee-6d37-4875-a6fb-96461cd47e8a"
      },
      "source": [
        "pip install azure-cognitiveservices-vision-customvision"
      ],
      "execution_count": 1,
      "outputs": [
        {
          "output_type": "stream",
          "text": [
            "Collecting azure-cognitiveservices-vision-customvision\n",
            "\u001b[?25l  Downloading https://files.pythonhosted.org/packages/c5/50/6d7840c59f45123a5c1cb9c935dcac614f0ca7be49cf1bf584e7a4cdbf4a/azure_cognitiveservices_vision_customvision-3.1.0-py2.py3-none-any.whl (62kB)\n",
            "\u001b[K     |████████████████████████████████| 71kB 738kB/s \n",
            "\u001b[?25hCollecting azure-common~=1.1\n",
            "  Downloading https://files.pythonhosted.org/packages/19/2b/46ada1753c4a640bc3ad04a1e20b1a5ea52a8f18079e1b8238e536aa0c98/azure_common-1.1.26-py2.py3-none-any.whl\n",
            "Collecting msrest>=0.5.0\n",
            "\u001b[?25l  Downloading https://files.pythonhosted.org/packages/e8/cc/6c96bfb3d3cf4c3bdedfa6b46503223f4c2a4fa388377697e0f8082a4fed/msrest-0.6.21-py2.py3-none-any.whl (85kB)\n",
            "\u001b[K     |████████████████████████████████| 92kB 1.8MB/s \n",
            "\u001b[?25hCollecting isodate>=0.6.0\n",
            "\u001b[?25l  Downloading https://files.pythonhosted.org/packages/9b/9f/b36f7774ff5ea8e428fdcfc4bb332c39ee5b9362ddd3d40d9516a55221b2/isodate-0.6.0-py2.py3-none-any.whl (45kB)\n",
            "\u001b[K     |████████████████████████████████| 51kB 1.4MB/s \n",
            "\u001b[?25hRequirement already satisfied: requests~=2.16 in /usr/local/lib/python3.7/dist-packages (from msrest>=0.5.0->azure-cognitiveservices-vision-customvision) (2.23.0)\n",
            "Requirement already satisfied: certifi>=2017.4.17 in /usr/local/lib/python3.7/dist-packages (from msrest>=0.5.0->azure-cognitiveservices-vision-customvision) (2020.12.5)\n",
            "Requirement already satisfied: requests-oauthlib>=0.5.0 in /usr/local/lib/python3.7/dist-packages (from msrest>=0.5.0->azure-cognitiveservices-vision-customvision) (1.3.0)\n",
            "Requirement already satisfied: six in /usr/local/lib/python3.7/dist-packages (from isodate>=0.6.0->msrest>=0.5.0->azure-cognitiveservices-vision-customvision) (1.15.0)\n",
            "Requirement already satisfied: idna<3,>=2.5 in /usr/local/lib/python3.7/dist-packages (from requests~=2.16->msrest>=0.5.0->azure-cognitiveservices-vision-customvision) (2.10)\n",
            "Requirement already satisfied: chardet<4,>=3.0.2 in /usr/local/lib/python3.7/dist-packages (from requests~=2.16->msrest>=0.5.0->azure-cognitiveservices-vision-customvision) (3.0.4)\n",
            "Requirement already satisfied: urllib3!=1.25.0,!=1.25.1,<1.26,>=1.21.1 in /usr/local/lib/python3.7/dist-packages (from requests~=2.16->msrest>=0.5.0->azure-cognitiveservices-vision-customvision) (1.24.3)\n",
            "Requirement already satisfied: oauthlib>=3.0.0 in /usr/local/lib/python3.7/dist-packages (from requests-oauthlib>=0.5.0->msrest>=0.5.0->azure-cognitiveservices-vision-customvision) (3.1.0)\n",
            "Installing collected packages: azure-common, isodate, msrest, azure-cognitiveservices-vision-customvision\n",
            "Successfully installed azure-cognitiveservices-vision-customvision-3.1.0 azure-common-1.1.26 isodate-0.6.0 msrest-0.6.21\n"
          ],
          "name": "stdout"
        }
      ]
    },
    {
      "cell_type": "code",
      "metadata": {
        "id": "JYRuFW9DA5ru"
      },
      "source": [
        "from azure.cognitiveservices.vision.customvision.training import CustomVisionTrainingClient\r\n",
        "from azure.cognitiveservices.vision.customvision.prediction import CustomVisionPredictionClient\r\n",
        "from azure.cognitiveservices.vision.customvision.training.models import ImageFileCreateBatch, ImageFileCreateEntry, Region\r\n",
        "from msrest.authentication import ApiKeyCredentials\r\n",
        "import time"
      ],
      "execution_count": 2,
      "outputs": []
    },
    {
      "cell_type": "code",
      "metadata": {
        "id": "DlNhQE5lA83N"
      },
      "source": [
        "# Replace with valid values\r\n",
        "ENDPOINT = \"https://clasificador-imagenes.cognitiveservices.azure.com/\"\r\n",
        "training_key = \"8d48037707544f4e8f853a11878aa59d\"\r\n",
        "prediction_key = \"3b6dd54ac1054f2883f9d121c4a1191d\"\r\n",
        "prediction_resource_id = \"d7b2c753-e443-4211-9592-14e43d67e24b\""
      ],
      "execution_count": 3,
      "outputs": []
    },
    {
      "cell_type": "code",
      "metadata": {
        "id": "gFtk2tIlBXUp"
      },
      "source": [
        "credentials = ApiKeyCredentials(in_headers={\"Training-key\": training_key})\r\n",
        "trainer = CustomVisionTrainingClient(ENDPOINT, credentials)\r\n",
        "prediction_credentials = ApiKeyCredentials(in_headers={\"Prediction-key\": prediction_key})\r\n",
        "predictor = CustomVisionPredictionClient(ENDPOINT, prediction_credentials)"
      ],
      "execution_count": 4,
      "outputs": []
    },
    {
      "cell_type": "code",
      "metadata": {
        "colab": {
          "base_uri": "https://localhost:8080/"
        },
        "id": "22ZlSnCHBfkp",
        "outputId": "502e4fe3-8ad6-469b-eedf-9d06ff525ae4"
      },
      "source": [
        "publish_iteration_name = \"clasificadorMosca\"\r\n",
        "\r\n",
        "credentials = ApiKeyCredentials(in_headers={\"Training-key\": training_key})\r\n",
        "trainer = CustomVisionTrainingClient(ENDPOINT, credentials)\r\n",
        "\r\n",
        "# Create a new project\r\n",
        "print (\"Creating project...\")\r\n",
        "project = trainer.create_project(\"Proyecto de Clasificación con Custom Vision\")"
      ],
      "execution_count": 5,
      "outputs": [
        {
          "output_type": "stream",
          "text": [
            "Creating project...\n"
          ],
          "name": "stdout"
        }
      ]
    },
    {
      "cell_type": "code",
      "metadata": {
        "id": "rb4Hh_4oBx4B"
      },
      "source": [
        "# Make two tags in the new project\r\n",
        "mosca_tag = trainer.create_tag(project.id, \"Mosca\")\r\n",
        "gusano_tag = trainer.create_tag(project.id, \"Gusano\")\r\n",
        "palomilla_tag = trainer.create_tag(project.id, \"Palomilla\")\r\n",
        "pulgon_tag = trainer.create_tag(project.id, \"Pulgon\")"
      ],
      "execution_count": 6,
      "outputs": []
    },
    {
      "cell_type": "code",
      "metadata": {
        "colab": {
          "base_uri": "https://localhost:8080/",
          "height": 265
        },
        "id": "eqvOnZCgCJhk",
        "outputId": "0da6ccb5-afe7-45b2-e834-3dcf927ffbc5"
      },
      "source": [
        "base_image_location = \"https://github.com/josefl19/CustomVision_clasificador/tree/main/\"\r\n",
        "print(\"Adding images...\")\r\n",
        "\r\n",
        "image_list = []\r\n",
        "\r\n",
        "# Lectura de las imagenes de mosca blanca.\r\n",
        "for image_num in range(1, 30):\r\n",
        "    file_name = \"mosca{}.jpg\".format(image_num)\r\n",
        "    with open(base_image_location + \"img_etiquetas/mosca/\" + file_name, \"rb\") as image_contents:\r\n",
        "        image_list.append(ImageFileCreateEntry(name=file_name, contents=image_contents.read(), tag_ids=[mosca_tag.id]))\r\n",
        "\r\n",
        "# Lectura de las imagenes de gusanos.\r\n",
        "for image_num in range(1, 12):\r\n",
        "    file_name = \"gusano_{}.jpg\".format(image_num)\r\n",
        "    with open(base_image_location + \"img_etiquetas/gusano/\" + file_name, \"rb\") as image_contents:\r\n",
        "        image_list.append(ImageFileCreateEntry(name=file_name, contents=image_contents.read(), tag_ids=[gusano_tag.id]))\r\n",
        "\r\n",
        "# Lectura de las imagenes de palomillas.\r\n",
        "for image_num in range(1, 12):\r\n",
        "    file_name = \"palomilla_{}.jpg\".format(image_num)\r\n",
        "    with open(base_image_location + \"img_etiquetas/palomilla/\" + file_name, \"rb\") as image_contents:\r\n",
        "        image_list.append(ImageFileCreateEntry(name=file_name, contents=image_contents.read(), tag_ids=[palomilla_tag.id]))\r\n",
        "\r\n",
        "# Lectura de las imagenes del pulgones.\r\n",
        "for image_num in range(1, 17):\r\n",
        "    file_name = \"pulgon_{}.jpg\".format(image_num)\r\n",
        "    with open(base_image_location + \"img_etiquetas/pulgon/\" + file_name, \"rb\") as image_contents:\r\n",
        "        image_list.append(ImageFileCreateEntry(name=file_name, contents=image_contents.read(), tag_ids=[pulgon_tag.id]))\r\n",
        "\r\n",
        "upload_result = trainer.create_images_from_files(project.id, ImageFileCreateBatch(images=image_list))\r\n",
        "if not upload_result.is_batch_successful:\r\n",
        "    print(\"Image batch upload failed.\")\r\n",
        "    for image in upload_result.images:\r\n",
        "        print(\"Image status: \", image.status)\r\n",
        "    exit(-1)"
      ],
      "execution_count": 9,
      "outputs": [
        {
          "output_type": "stream",
          "text": [
            "Adding images...\n"
          ],
          "name": "stdout"
        },
        {
          "output_type": "error",
          "ename": "FileNotFoundError",
          "evalue": "ignored",
          "traceback": [
            "\u001b[0;31m---------------------------------------------------------------------------\u001b[0m",
            "\u001b[0;31mFileNotFoundError\u001b[0m                         Traceback (most recent call last)",
            "\u001b[0;32m<ipython-input-9-2ce7b4316d12>\u001b[0m in \u001b[0;36m<module>\u001b[0;34m()\u001b[0m\n\u001b[1;32m      7\u001b[0m \u001b[0;32mfor\u001b[0m \u001b[0mimage_num\u001b[0m \u001b[0;32min\u001b[0m \u001b[0mrange\u001b[0m\u001b[0;34m(\u001b[0m\u001b[0;36m1\u001b[0m\u001b[0;34m,\u001b[0m \u001b[0;36m30\u001b[0m\u001b[0;34m)\u001b[0m\u001b[0;34m:\u001b[0m\u001b[0;34m\u001b[0m\u001b[0;34m\u001b[0m\u001b[0m\n\u001b[1;32m      8\u001b[0m     \u001b[0mfile_name\u001b[0m \u001b[0;34m=\u001b[0m \u001b[0;34m\"mosca{}.jpg\"\u001b[0m\u001b[0;34m.\u001b[0m\u001b[0mformat\u001b[0m\u001b[0;34m(\u001b[0m\u001b[0mimage_num\u001b[0m\u001b[0;34m)\u001b[0m\u001b[0;34m\u001b[0m\u001b[0;34m\u001b[0m\u001b[0m\n\u001b[0;32m----> 9\u001b[0;31m     \u001b[0;32mwith\u001b[0m \u001b[0mopen\u001b[0m\u001b[0;34m(\u001b[0m\u001b[0mbase_image_location\u001b[0m \u001b[0;34m+\u001b[0m \u001b[0;34m\"img_etiquetas/mosca/\"\u001b[0m \u001b[0;34m+\u001b[0m \u001b[0mfile_name\u001b[0m\u001b[0;34m,\u001b[0m \u001b[0;34m\"rb\"\u001b[0m\u001b[0;34m)\u001b[0m \u001b[0;32mas\u001b[0m \u001b[0mimage_contents\u001b[0m\u001b[0;34m:\u001b[0m\u001b[0;34m\u001b[0m\u001b[0;34m\u001b[0m\u001b[0m\n\u001b[0m\u001b[1;32m     10\u001b[0m         \u001b[0mimage_list\u001b[0m\u001b[0;34m.\u001b[0m\u001b[0mappend\u001b[0m\u001b[0;34m(\u001b[0m\u001b[0mImageFileCreateEntry\u001b[0m\u001b[0;34m(\u001b[0m\u001b[0mname\u001b[0m\u001b[0;34m=\u001b[0m\u001b[0mfile_name\u001b[0m\u001b[0;34m,\u001b[0m \u001b[0mcontents\u001b[0m\u001b[0;34m=\u001b[0m\u001b[0mimage_contents\u001b[0m\u001b[0;34m.\u001b[0m\u001b[0mread\u001b[0m\u001b[0;34m(\u001b[0m\u001b[0;34m)\u001b[0m\u001b[0;34m,\u001b[0m \u001b[0mtag_ids\u001b[0m\u001b[0;34m=\u001b[0m\u001b[0;34m[\u001b[0m\u001b[0mmosca_tag\u001b[0m\u001b[0;34m.\u001b[0m\u001b[0mid\u001b[0m\u001b[0;34m]\u001b[0m\u001b[0;34m)\u001b[0m\u001b[0;34m)\u001b[0m\u001b[0;34m\u001b[0m\u001b[0;34m\u001b[0m\u001b[0m\n\u001b[1;32m     11\u001b[0m \u001b[0;34m\u001b[0m\u001b[0m\n",
            "\u001b[0;31mFileNotFoundError\u001b[0m: [Errno 2] No such file or directory: 'https://github.com/josefl19/CustomVision_clasificador/img_etiquetas/mosca/mosca1.jpg'"
          ]
        }
      ]
    },
    {
      "cell_type": "code",
      "metadata": {
        "id": "jlXinC_qK2fm"
      },
      "source": [
        "print (\"Entrenando modelo...\")\r\n",
        "iteration = trainer.train_project(project.id)\r\n",
        "while (iteration.status != \"Completed\"):\r\n",
        "    iteration = trainer.get_iteration(project.id, iteration.id)\r\n",
        "    print (\"Training status: \" + iteration.status)\r\n",
        "    time.sleep(1)\r\n",
        "\r\n",
        "# The iteration is now trained. Publish it to the project endpoint\r\n",
        "trainer.publish_iteration(project.id, iteration.id, publish_iteration_name, prediction_resource_id)\r\n",
        "print (\"Done!\")"
      ],
      "execution_count": null,
      "outputs": []
    },
    {
      "cell_type": "code",
      "metadata": {
        "id": "xTIo6aocLLRe"
      },
      "source": [
        "# Now there is a trained endpoint that can be used to make a prediction\r\n",
        "prediction_credentials = ApiKeyCredentials(in_headers={\"Prediction-key\": prediction_key})\r\n",
        "predictor = CustomVisionPredictionClient(ENDPOINT, prediction_credentials)\r\n",
        "\r\n",
        "with open(base_image_location + \"img_test/test_1.jpg\", \"rb\") as image_contents:\r\n",
        "    results = predictor.classify_image(\r\n",
        "        project.id, publish_iteration_name, image_contents.read())\r\n",
        "\r\n",
        "    # Display the results.\r\n",
        "    for prediction in results.predictions:\r\n",
        "        print(\"\\t\" + prediction.tag_name +\r\n",
        "              \": {0:.2f}%\".format(prediction.probability * 100))"
      ],
      "execution_count": null,
      "outputs": []
    }
  ]
}